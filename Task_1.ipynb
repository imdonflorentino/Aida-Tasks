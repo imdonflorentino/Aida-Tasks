{
  "nbformat": 4,
  "nbformat_minor": 0,
  "metadata": {
    "colab": {
      "name": "Task 1.ipynb",
      "provenance": [],
      "collapsed_sections": []
    },
    "kernelspec": {
      "name": "python3",
      "display_name": "Python 3"
    },
    "language_info": {
      "name": "python"
    }
  },
  "cells": [
    {
      "cell_type": "code",
      "execution_count": null,
      "metadata": {
        "id": "tvUMraLDWpzN"
      },
      "outputs": [],
      "source": [
        "snames = [\"Manjiro\", \"Faust\", \"Uchicha\", \"Ackermann\"] #Surnames of the 4 students "
      ]
    },
    {
      "cell_type": "code",
      "source": [
        "gnames = [\"Sano\", \"Nacth\", \"Sasuke\", \"Levi\"] #Given names of the 4 students "
      ],
      "metadata": {
        "id": "y-DtKn4w_W9g"
      },
      "execution_count": null,
      "outputs": []
    },
    {
      "cell_type": "code",
      "source": [
        "pgrades = [\"92\", \"92\", \"94\", \"94\"] #Preliminary grades of each student "
      ],
      "metadata": {
        "id": "O7Zip86V_qBX"
      },
      "execution_count": null,
      "outputs": []
    },
    {
      "cell_type": "code",
      "source": [
        "mgrades = [\"88\", \"89\", \"93\", \"88\"] #Midterm grades of each student "
      ],
      "metadata": {
        "id": "EMyJXLudANNR"
      },
      "execution_count": null,
      "outputs": []
    },
    {
      "cell_type": "code",
      "source": [
        "fgrades = [\"90\", \"93\", \"93\", \"90\"] #Final grades of each student"
      ],
      "metadata": {
        "id": "_84rdAgUApow"
      },
      "execution_count": null,
      "outputs": []
    },
    {
      "cell_type": "code",
      "source": [
        "import numpy as np \n",
        "import pandas as pd #To import the numpy and pandas module"
      ],
      "metadata": {
        "id": "vThhS--TDQa4"
      },
      "execution_count": null,
      "outputs": []
    },
    {
      "cell_type": "code",
      "source": [
        "my_column_surnames = ['Manjiro', 'Faust', 'Uchicha', 'Ackermann'] #The lists of the student surnames above\n",
        "\n",
        "my_data1 = np.random.randint(low=88, high=97, size=(3, 4)) #A 3x4 numpy array, and each cell has a random integer base on their grades above\n",
        "\n",
        "df = pd.DataFrame(data=my_data1, columns=my_column_surnames) #Creating a data frame \n",
        "\n",
        "print(df) #Print the entire dataframe"
      ],
      "metadata": {
        "colab": {
          "base_uri": "https://localhost:8080/"
        },
        "id": "y8Y6_BPsH8bo",
        "outputId": "2cccc1c3-51ae-4f1c-ccc5-f2efcadf7eed"
      },
      "execution_count": null,
      "outputs": [
        {
          "output_type": "stream",
          "name": "stdout",
          "text": [
            "   Manjiro  Faust  Uchicha  Ackermann\n",
            "0       92     92       94         94\n",
            "1       88     89       93         88\n",
            "2       90     93       93         90\n"
          ]
        }
      ]
    }
  ]
}